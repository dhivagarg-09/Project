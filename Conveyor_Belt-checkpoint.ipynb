{
 "cells": [
  {
   "cell_type": "markdown",
   "id": "3ea21676-9e11-4564-b70c-ef789d72b0d8",
   "metadata": {},
   "source": [
    "# 1. Imports"
   ]
  },
  {
   "cell_type": "code",
   "execution_count": 2,
   "id": "fd34bdc3-0a43-4ef5-bde6-a31695a7bd33",
   "metadata": {},
   "outputs": [],
   "source": [
    "import os\n",
    "import shutil\n",
    "import random\n",
    "import numpy as np\n",
    "import pandas as pd\n",
    "import seaborn as sns\n",
    "import matplotlib.pyplot as plt\n",
    "import tensorflow as tf\n",
    "from tensorflow.keras.preprocessing.image import ImageDataGenerator\n",
    "from tensorflow.keras.models import Sequential\n",
    "from tensorflow.keras.layers import Conv2D, MaxPooling2D, Flatten, Dense\n",
    "from keras.callbacks import ModelCheckpoint, EarlyStopping\n",
    "from keras.models import load_model\n",
    "from tensorflow.keras.preprocessing import image\n",
    "import cv2"
   ]
  },
  {
   "cell_type": "markdown",
   "id": "f2a208cb-b5a7-4e63-98e8-56785e6b0751",
   "metadata": {},
   "source": [
    "# 2. Data fetching"
   ]
  },
  {
   "cell_type": "markdown",
   "id": "53bc9a79-694e-450c-a03c-1d4439bf60f4",
   "metadata": {},
   "source": [
    "### 2.1 Folder structure"
   ]
  },
  {
   "cell_type": "code",
   "execution_count": 4,
   "id": "238e75a1-4bf7-4455-98ec-ab73fd0cf477",
   "metadata": {},
   "outputs": [
    {
     "name": "stdout",
     "output_type": "stream",
     "text": [
      "Folder already exists!\n"
     ]
    }
   ],
   "source": [
    "if not os.path.exists(r\"./Data\"):\n",
    "    os.makedirs(r\"./Data\")\n",
    "    os.makedirs(r\"./Data/Train_Data\")\n",
    "    os.makedirs(r\"./Data/Train_Data/Class_0\")\n",
    "    os.makedirs(r\"./Data/Train_Data/Class_1\")\n",
    "    os.makedirs(r\"./Data/Test_Data\")\n",
    "    os.makedirs(r\"./Data/Test_Data/Class_0\")\n",
    "    os.makedirs(r\"./Data/Test_Data/Class_1\")\n",
    "    os.makedirs(r\"./Data/Val_Data\")\n",
    "    os.makedirs(r\"./Data/Val_Data/Class_0\")\n",
    "    os.makedirs(r\"./Data/Val_Data/Class_1\")\n",
    "    print(\"Folder structure created successfully!\")\n",
    "\n",
    "else:\n",
    "    print(\"Folder already exists!\")"
   ]
  },
  {
   "cell_type": "markdown",
   "id": "e3e2cd4f-1659-48cc-a1fa-3521c5327563",
   "metadata": {},
   "source": [
    "### 2.2 Data collection"
   ]
  },
  {
   "cell_type": "code",
   "execution_count": 5,
   "id": "d4ac8ba5-fa71-4763-bb78-daf35f261e46",
   "metadata": {
    "scrolled": true
   },
   "outputs": [
    {
     "data": {
      "text/plain": [
       "'url = \\'http://192.0.0.4:8080//video\\'\\n\\ncap = cv2.VideoCapture(url)\\n\\nif not cap.isOpened():\\n    print(\"Error: Could not connect to the IP webcam.\")\\n    exit()\\n\\nwindow_name = \"IP Webcam Feed\"\\ncapture_frames = False\\nframe_count = 0\\n\\ntrain_path = \"./Data/Train_Data\"\\nclass_0_path = os.path.join(train_path, \"Class_0\")\\nclass_1_path = os.path.join(train_path, \"Class_1\")\\n\\nwhile True:\\n    ret, frame = cap.read()\\n\\n    if ret:\\n        cv2.imshow(window_name, frame)\\n\\n        if capture_frames:\\n            frame_count += 1\\n            if capture_mode == \\'a\\':\\n                save_path = os.path.join(class_0_path, f\"captured_frame_{frame_count}.png\")\\n            elif capture_mode == \\'b\\':\\n                save_path = os.path.join(class_1_path, f\"captured_frame_{frame_count}.png\")\\n\\n            cv2.imwrite(save_path, frame)\\n            print(f\"Frame {frame_count} captured and saved to {save_path}\")\\n\\n    key = cv2.waitKey(1)\\n\\n    if key == ord(\\'q\\'):\\n        break\\n    elif key == ord(\\'a\\'):\\n        capture_frames = not capture_frames\\n        capture_mode = \\'a\\'\\n    elif key == ord(\\'b\\'):\\n        capture_frames = not capture_frames\\n        capture_mode = \\'b\\'\\n    elif key == -1:\\n        capture_frames = False\\n\\ncap.release()\\ncv2.destroyAllWindows()'"
      ]
     },
     "execution_count": 5,
     "metadata": {},
     "output_type": "execute_result"
    }
   ],
   "source": [
    "\"\"\"url = 'http://192.0.0.4:8080//video'\n",
    "\n",
    "cap = cv2.VideoCapture(url)\n",
    "\n",
    "if not cap.isOpened():\n",
    "    print(\"Error: Could not connect to the IP webcam.\")\n",
    "    exit()\n",
    "\n",
    "window_name = \"IP Webcam Feed\"\n",
    "capture_frames = False\n",
    "frame_count = 0\n",
    "\n",
    "train_path = \"./Data/Train_Data\"\n",
    "class_0_path = os.path.join(train_path, \"Class_0\")\n",
    "class_1_path = os.path.join(train_path, \"Class_1\")\n",
    "\n",
    "while True:\n",
    "    ret, frame = cap.read()\n",
    "\n",
    "    if ret:\n",
    "        cv2.imshow(window_name, frame)\n",
    "\n",
    "        if capture_frames:\n",
    "            frame_count += 1\n",
    "            if capture_mode == 'a':\n",
    "                save_path = os.path.join(class_0_path, f\"captured_frame_{frame_count}.png\")\n",
    "            elif capture_mode == 'b':\n",
    "                save_path = os.path.join(class_1_path, f\"captured_frame_{frame_count}.png\")\n",
    "\n",
    "            cv2.imwrite(save_path, frame)\n",
    "            print(f\"Frame {frame_count} captured and saved to {save_path}\")\n",
    "\n",
    "    key = cv2.waitKey(1)\n",
    "\n",
    "    if key == ord('q'):\n",
    "        break\n",
    "    elif key == ord('a'):\n",
    "        capture_frames = not capture_frames\n",
    "        capture_mode = 'a'\n",
    "    elif key == ord('b'):\n",
    "        capture_frames = not capture_frames\n",
    "        capture_mode = 'b'\n",
    "    elif key == -1:\n",
    "        capture_frames = False\n",
    "\n",
    "cap.release()\n",
    "cv2.destroyAllWindows()\"\"\""
   ]
  },
  {
   "cell_type": "markdown",
   "id": "4bfb080b-c284-4c0f-96ff-93344dcf4320",
   "metadata": {},
   "source": [
    "### 2.3 Train, Test and Validation Split"
   ]
  },
  {
   "cell_type": "code",
   "execution_count": 6,
   "id": "3942a302-157c-4866-a42f-f1c3ef0c8af2",
   "metadata": {},
   "outputs": [
    {
     "data": {
      "text/plain": [
       "'data_folder = \"./Data\"\\ntrain_data_folder = os.path.join(data_folder, \"Train_Data\")\\ntest_data_folder = os.path.join(data_folder, \"Test_Data\")\\nval_data_folder = os.path.join(data_folder, \"Val_Data\")\\n\\ntest_percentage = 15\\nval_percentage = 15\\n\\nclass0_images = []\\nclass1_images = []\\n\\nclass0_folder_path = os.path.join(train_data_folder, \"Class_0\")\\nclass0_images = [f for f in os.listdir(class0_folder_path) if os.path.isfile(os.path.join(class0_folder_path, f))]\\n\\nclass1_folder_path = os.path.join(train_data_folder, \"Class_1\")\\nclass1_images = [f for f in os.listdir(class1_folder_path) if os.path.isfile(os.path.join(class1_folder_path, f))]\\n\\ntest_images_set = set()\\n\\nnum_test_images_class0 = int(len(class0_images) * (test_percentage / 100))\\nnum_test_images_class1 = int(len(class1_images) * (test_percentage / 100))\\n\\ntest_images_class0 = random.sample(class0_images, num_test_images_class0)\\ntest_images_set.update(test_images_class0)\\n\\ntest_images_class1 = random.sample(class1_images, num_test_images_class1)\\ntest_images_set.update(test_images_class1)\\n\\nfor image in test_images_class0:\\n    src_path = os.path.join(class0_folder_path, image)\\n    dest_path = os.path.join(test_data_folder, \"Class_0\", image)\\n    shutil.move(src_path, dest_path)\\n\\nfor image in test_images_class1:\\n    src_path = os.path.join(class1_folder_path, image)\\n    dest_path = os.path.join(test_data_folder, \"Class_1\", image)\\n    shutil.move(src_path, dest_path)\\n\\nnum_val_images_class0 = int(len(class0_images) * (val_percentage / 100))\\nnum_val_images_class1 = int(len(class1_images) * (val_percentage / 100))\\n\\nremaining_val_images_class0 = set(class0_images) - test_images_set\\nremaining_val_images_class1 = set(class1_images) - test_images_set\\n\\nnum_val_images_class0 = min(num_val_images_class0, len(remaining_val_images_class0))\\nnum_val_images_class1 = min(num_val_images_class1, len(remaining_val_images_class1))\\n\\nval_images_class0 = random.sample(remaining_val_images_class0, num_val_images_class0)\\nfor image in val_images_class0:\\n    src_path = os.path.join(class0_folder_path, image)\\n    dest_path = os.path.join(val_data_folder, \"Class_0\", image)\\n    shutil.move(src_path, dest_path)\\n\\nval_images_class1 = random.sample(remaining_val_images_class1, num_val_images_class1)\\nfor image in val_images_class1:\\n    src_path = os.path.join(class1_folder_path, image)\\n    dest_path = os.path.join(val_data_folder, \"Class_1\", image)\\n    shutil.move(src_path, dest_path)\\n\\nprint(\"Data splited successfully.\")'"
      ]
     },
     "execution_count": 6,
     "metadata": {},
     "output_type": "execute_result"
    }
   ],
   "source": [
    "\"\"\"data_folder = \"./Data\"\n",
    "train_data_folder = os.path.join(data_folder, \"Train_Data\")\n",
    "test_data_folder = os.path.join(data_folder, \"Test_Data\")\n",
    "val_data_folder = os.path.join(data_folder, \"Val_Data\")\n",
    "\n",
    "test_percentage = 15\n",
    "val_percentage = 15\n",
    "\n",
    "class0_images = []\n",
    "class1_images = []\n",
    "\n",
    "class0_folder_path = os.path.join(train_data_folder, \"Class_0\")\n",
    "class0_images = [f for f in os.listdir(class0_folder_path) if os.path.isfile(os.path.join(class0_folder_path, f))]\n",
    "\n",
    "class1_folder_path = os.path.join(train_data_folder, \"Class_1\")\n",
    "class1_images = [f for f in os.listdir(class1_folder_path) if os.path.isfile(os.path.join(class1_folder_path, f))]\n",
    "\n",
    "test_images_set = set()\n",
    "\n",
    "num_test_images_class0 = int(len(class0_images) * (test_percentage / 100))\n",
    "num_test_images_class1 = int(len(class1_images) * (test_percentage / 100))\n",
    "\n",
    "test_images_class0 = random.sample(class0_images, num_test_images_class0)\n",
    "test_images_set.update(test_images_class0)\n",
    "\n",
    "test_images_class1 = random.sample(class1_images, num_test_images_class1)\n",
    "test_images_set.update(test_images_class1)\n",
    "\n",
    "for image in test_images_class0:\n",
    "    src_path = os.path.join(class0_folder_path, image)\n",
    "    dest_path = os.path.join(test_data_folder, \"Class_0\", image)\n",
    "    shutil.move(src_path, dest_path)\n",
    "\n",
    "for image in test_images_class1:\n",
    "    src_path = os.path.join(class1_folder_path, image)\n",
    "    dest_path = os.path.join(test_data_folder, \"Class_1\", image)\n",
    "    shutil.move(src_path, dest_path)\n",
    "\n",
    "num_val_images_class0 = int(len(class0_images) * (val_percentage / 100))\n",
    "num_val_images_class1 = int(len(class1_images) * (val_percentage / 100))\n",
    "\n",
    "remaining_val_images_class0 = set(class0_images) - test_images_set\n",
    "remaining_val_images_class1 = set(class1_images) - test_images_set\n",
    "\n",
    "num_val_images_class0 = min(num_val_images_class0, len(remaining_val_images_class0))\n",
    "num_val_images_class1 = min(num_val_images_class1, len(remaining_val_images_class1))\n",
    "\n",
    "val_images_class0 = random.sample(remaining_val_images_class0, num_val_images_class0)\n",
    "for image in val_images_class0:\n",
    "    src_path = os.path.join(class0_folder_path, image)\n",
    "    dest_path = os.path.join(val_data_folder, \"Class_0\", image)\n",
    "    shutil.move(src_path, dest_path)\n",
    "\n",
    "val_images_class1 = random.sample(remaining_val_images_class1, num_val_images_class1)\n",
    "for image in val_images_class1:\n",
    "    src_path = os.path.join(class1_folder_path, image)\n",
    "    dest_path = os.path.join(val_data_folder, \"Class_1\", image)\n",
    "    shutil.move(src_path, dest_path)\n",
    "\n",
    "print(\"Data splited successfully.\")\"\"\""
   ]
  },
  {
   "cell_type": "markdown",
   "id": "301e49f0-9301-42f9-b863-4d761e253cdb",
   "metadata": {},
   "source": [
    "# 3. Data preprocessing"
   ]
  },
  {
   "cell_type": "code",
   "execution_count": 7,
   "id": "4b5aa773-0b5d-4847-8cd4-714a91ae1922",
   "metadata": {},
   "outputs": [
    {
     "name": "stdout",
     "output_type": "stream",
     "text": [
      "Found 3360 images belonging to 2 classes.\n",
      "Found 720 images belonging to 2 classes.\n",
      "Found 720 images belonging to 2 classes.\n"
     ]
    }
   ],
   "source": [
    "data_folder = \"./Data\"\n",
    "train_data_folder = os.path.join(data_folder, \"Train_Data\")\n",
    "test_data_folder = os.path.join(data_folder, \"Test_Data\")\n",
    "val_data_folder = os.path.join(data_folder, \"Val_Data\")\n",
    "\n",
    "# Create ImageDataGenerator instances for training, testing and validation\n",
    "train_datagen = ImageDataGenerator(\n",
    "        rescale=1./255,\n",
    "        shear_range=0.2,\n",
    "        zoom_range=0.2,\n",
    "        horizontal_flip=True,\n",
    "        vertical_flip=True)\n",
    "val_datagen = ImageDataGenerator(rescale=1./255)\n",
    "test_datagen = ImageDataGenerator(rescale=1./255)\n",
    "\n",
    "# Set up generators for training, testing and validation data\n",
    "train_generator = train_datagen.flow_from_directory(\n",
    "        train_data_folder,\n",
    "        target_size=(320, 180),\n",
    "        batch_size=32,\n",
    "        class_mode='binary')\n",
    "validation_generator = val_datagen.flow_from_directory(\n",
    "        val_data_folder,\n",
    "        target_size=(320, 180),\n",
    "        batch_size=32,\n",
    "        class_mode='binary')\n",
    "test_generator = test_datagen.flow_from_directory(\n",
    "    test_data_folder,\n",
    "    target_size=(320, 180),\n",
    "    batch_size=32,\n",
    "    class_mode='binary'\n",
    ")"
   ]
  },
  {
   "cell_type": "markdown",
   "id": "5ff91991-9023-4086-bc5c-8559ef2f23df",
   "metadata": {},
   "source": [
    "# 4. Deep learning model "
   ]
  },
  {
   "cell_type": "markdown",
   "id": "ce40b2fb-2848-445a-8724-fb59bea68bfb",
   "metadata": {},
   "source": [
    "### 4.1 Model building"
   ]
  },
  {
   "cell_type": "code",
   "execution_count": 8,
   "id": "d4479408-e7c5-41cd-9d2b-3e872b055593",
   "metadata": {},
   "outputs": [
    {
     "name": "stdout",
     "output_type": "stream",
     "text": [
      "Model: \"sequential\"\n",
      "_________________________________________________________________\n",
      " Layer (type)                Output Shape              Param #   \n",
      "=================================================================\n",
      " conv2d (Conv2D)             (None, 318, 178, 32)      896       \n",
      "                                                                 \n",
      " max_pooling2d (MaxPooling2D  (None, 159, 89, 32)      0         \n",
      " )                                                               \n",
      "                                                                 \n",
      " conv2d_1 (Conv2D)           (None, 157, 87, 64)       18496     \n",
      "                                                                 \n",
      " max_pooling2d_1 (MaxPooling  (None, 78, 43, 64)       0         \n",
      " 2D)                                                             \n",
      "                                                                 \n",
      " conv2d_2 (Conv2D)           (None, 76, 41, 128)       73856     \n",
      "                                                                 \n",
      " max_pooling2d_2 (MaxPooling  (None, 38, 20, 128)      0         \n",
      " 2D)                                                             \n",
      "                                                                 \n",
      " flatten (Flatten)           (None, 97280)             0         \n",
      "                                                                 \n",
      " dense (Dense)               (None, 128)               12451968  \n",
      "                                                                 \n",
      " dense_1 (Dense)             (None, 1)                 129       \n",
      "                                                                 \n",
      "=================================================================\n",
      "Total params: 12,545,345\n",
      "Trainable params: 12,545,345\n",
      "Non-trainable params: 0\n",
      "_________________________________________________________________\n"
     ]
    }
   ],
   "source": [
    "# CNN Architecture\n",
    "model = Sequential()\n",
    "model.add(Conv2D(32, (3, 3), activation='relu', input_shape=(320, 180, 3)))\n",
    "model.add(MaxPooling2D((2, 2)))\n",
    "model.add(Conv2D(64, (3, 3), activation='relu'))\n",
    "model.add(MaxPooling2D((2, 2)))\n",
    "model.add(Conv2D(128, (3, 3), activation='relu'))\n",
    "model.add(MaxPooling2D((2, 2)))\n",
    "model.add(Flatten())\n",
    "model.add(Dense(128, activation='relu'))\n",
    "model.add(Dense(1, activation='sigmoid'))\n",
    "model.summary()\n",
    "\n",
    "\n",
    "# Early stopping and model check point\n",
    "es = EarlyStopping(monitor=\"val_accuracy\", min_delta= 0.01, patience= 3, verbose= 1, mode = 'auto')\n",
    "mc = ModelCheckpoint(monitor=\"val_accuracy\",filepath=\"./conveyor_model_2.h5\", verbose= 1 , save_best_only= True , mode = 'auto')\n",
    "cd = [es,mc]"
   ]
  },
  {
   "cell_type": "markdown",
   "id": "3c6ece32-5a4b-4d0a-95be-3fc712aafb7a",
   "metadata": {},
   "source": [
    "### 4.2 Model compilation"
   ]
  },
  {
   "cell_type": "code",
   "execution_count": 9,
   "id": "be2da99d-adf2-4e51-a430-ccd7de44e62c",
   "metadata": {},
   "outputs": [],
   "source": [
    "model.compile(optimizer='adam', loss='binary_crossentropy', metrics=['accuracy'])"
   ]
  },
  {
   "cell_type": "markdown",
   "id": "9ffc5e49-1bb9-4ddf-a859-857ff9156896",
   "metadata": {},
   "source": [
    "### 4.3 Model training"
   ]
  },
  {
   "cell_type": "code",
   "execution_count": 10,
   "id": "a35188bc-d382-40df-9b7c-6e4dba448627",
   "metadata": {},
   "outputs": [
    {
     "name": "stdout",
     "output_type": "stream",
     "text": [
      "Epoch 1/10\n",
      "52/52 [==============================] - ETA: 0s - loss: 0.7823 - accuracy: 0.5457\n",
      "Epoch 1: val_accuracy improved from -inf to 0.61914, saving model to .\\conveyor_model_2.h5\n",
      "52/52 [==============================] - 60s 1s/step - loss: 0.7823 - accuracy: 0.5457 - val_loss: 0.6545 - val_accuracy: 0.6191\n",
      "Epoch 2/10\n",
      "52/52 [==============================] - ETA: 0s - loss: 0.6301 - accuracy: 0.6442\n",
      "Epoch 2: val_accuracy improved from 0.61914 to 0.67188, saving model to .\\conveyor_model_2.h5\n",
      "52/52 [==============================] - 57s 1s/step - loss: 0.6301 - accuracy: 0.6442 - val_loss: 0.6773 - val_accuracy: 0.6719\n",
      "Epoch 3/10\n",
      "52/52 [==============================] - ETA: 0s - loss: 0.5290 - accuracy: 0.7368\n",
      "Epoch 3: val_accuracy improved from 0.67188 to 0.80664, saving model to .\\conveyor_model_2.h5\n",
      "52/52 [==============================] - 56s 1s/step - loss: 0.5290 - accuracy: 0.7368 - val_loss: 0.4403 - val_accuracy: 0.8066\n",
      "Epoch 4/10\n",
      "52/52 [==============================] - ETA: 0s - loss: 0.3710 - accuracy: 0.8281\n",
      "Epoch 4: val_accuracy did not improve from 0.80664\n",
      "52/52 [==============================] - 56s 1s/step - loss: 0.3710 - accuracy: 0.8281 - val_loss: 0.7359 - val_accuracy: 0.7559\n",
      "Epoch 5/10\n",
      "52/52 [==============================] - ETA: 0s - loss: 0.3224 - accuracy: 0.8630\n",
      "Epoch 5: val_accuracy improved from 0.80664 to 0.85938, saving model to .\\conveyor_model_2.h5\n",
      "52/52 [==============================] - 56s 1s/step - loss: 0.3224 - accuracy: 0.8630 - val_loss: 0.3295 - val_accuracy: 0.8594\n",
      "Epoch 6/10\n",
      "52/52 [==============================] - ETA: 0s - loss: 0.2729 - accuracy: 0.8816\n",
      "Epoch 6: val_accuracy improved from 0.85938 to 0.87305, saving model to .\\conveyor_model_2.h5\n",
      "52/52 [==============================] - 56s 1s/step - loss: 0.2729 - accuracy: 0.8816 - val_loss: 0.3122 - val_accuracy: 0.8730\n",
      "Epoch 7/10\n",
      "52/52 [==============================] - ETA: 0s - loss: 0.2079 - accuracy: 0.9135\n",
      "Epoch 7: val_accuracy improved from 0.87305 to 0.93945, saving model to .\\conveyor_model_2.h5\n",
      "52/52 [==============================] - 55s 1s/step - loss: 0.2079 - accuracy: 0.9135 - val_loss: 0.1711 - val_accuracy: 0.9395\n",
      "Epoch 8/10\n",
      "52/52 [==============================] - ETA: 0s - loss: 0.2040 - accuracy: 0.9183\n",
      "Epoch 8: val_accuracy did not improve from 0.93945\n",
      "52/52 [==============================] - 55s 1s/step - loss: 0.2040 - accuracy: 0.9183 - val_loss: 0.2553 - val_accuracy: 0.8965\n",
      "Epoch 9/10\n",
      "52/52 [==============================] - ETA: 0s - loss: 0.1585 - accuracy: 0.9429\n",
      "Epoch 9: val_accuracy did not improve from 0.93945\n",
      "52/52 [==============================] - 55s 1s/step - loss: 0.1585 - accuracy: 0.9429 - val_loss: 0.2633 - val_accuracy: 0.8828\n",
      "Epoch 10/10\n",
      "52/52 [==============================] - ETA: 0s - loss: 0.1528 - accuracy: 0.9435\n",
      "Epoch 10: val_accuracy improved from 0.93945 to 0.96094, saving model to .\\conveyor_model_2.h5\n",
      "52/52 [==============================] - 56s 1s/step - loss: 0.1528 - accuracy: 0.9435 - val_loss: 0.1099 - val_accuracy: 0.9609\n"
     ]
    }
   ],
   "source": [
    "history1 = model.fit(\n",
    "    train_generator,\n",
    "    steps_per_epoch=52,\n",
    "    epochs=10,\n",
    "    validation_data=validation_generator,\n",
    "    validation_steps=16,\n",
    "    verbose=1,\n",
    "    callbacks=cd\n",
    ")"
   ]
  },
  {
   "cell_type": "markdown",
   "id": "49a46ebc-7fbb-4a2e-b7ae-a27fa93d1238",
   "metadata": {},
   "source": [
    "### 4.4 Model visualization"
   ]
  },
  {
   "cell_type": "code",
   "execution_count": 11,
   "id": "e3baba29-1dae-4284-8ad5-b6e011c065f5",
   "metadata": {},
   "outputs": [
    {
     "data": {
      "text/plain": [
       "dict_keys(['loss', 'accuracy', 'val_loss', 'val_accuracy'])"
      ]
     },
     "execution_count": 11,
     "metadata": {},
     "output_type": "execute_result"
    }
   ],
   "source": [
    "# Model Graphical Interpretation\n",
    "h = history1.history\n",
    "h.keys()"
   ]
  },
  {
   "cell_type": "code",
   "execution_count": 12,
   "id": "382796de-b188-4ff2-8e18-98667fbec869",
   "metadata": {},
   "outputs": [
    {
     "data": {
      "image/png": "[encoded data removed]",
      "text/plain": [
       "<Figure size 640x480 with 1 Axes>"
      ]
     },
     "metadata": {},
     "output_type": "display_data"
    }
   ],
   "source": [
    "# Accuracy vs Validation accuracy\n",
    "plt.plot(h['accuracy'],c=\"red\")\n",
    "plt.plot(h['val_accuracy'],c=\"cyan\")\n",
    "plt.title(\"acc vs val-acc\")\n",
    "plt.show()"
   ]
  },
  {
   "cell_type": "code",
   "execution_count": 13,
   "id": "620672c6-ee0a-403e-a408-1a432a710c02",
   "metadata": {},
   "outputs": [
    {
     "data": {
      "image/png": "[encoded data removed]",
      "text/plain": [
       "<Figure size 640x480 with 1 Axes>"
      ]
     },
     "metadata": {},
     "output_type": "display_data"
    }
   ],
   "source": [
    "# Loss vs Validation loss\n",
    "plt.plot(h['loss'],c=\"red\")\n",
    "plt.plot(h['val_loss'],c=\"cyan\")\n",
    "plt.title(\"loss vs val-loss\")\n",
    "plt.show()"
   ]
  },
  {
   "cell_type": "markdown",
   "id": "03fce612-7cfc-4e0c-8f1b-61d09f08f327",
   "metadata": {},
   "source": [
    "### 4.5 Model evaluation"
   ]
  },
  {
   "cell_type": "code",
   "execution_count": 14,
   "id": "418a691e-27dc-49af-a824-d4fa27401b3d",
   "metadata": {},
   "outputs": [
    {
     "name": "stdout",
     "output_type": "stream",
     "text": [
      "23/23 [==============================] - 16s 674ms/step - loss: 0.0603 - accuracy: 0.9806\n",
      "The accuracy of the model is  98.0555534362793 %\n"
     ]
    }
   ],
   "source": [
    "model = load_model(\"./conveyor_model.h5\")\n",
    "\n",
    "acc = model.evaluate(test_generator)[1]\n",
    "\n",
    "print(\"The accuracy of the model is \",acc*100,\"%\")"
   ]
  },
  {
   "cell_type": "code",
   "execution_count": 3,
   "id": "2c5b81dc-21b9-4f07-b070-d98d2245b39d",
   "metadata": {
    "collapsed": true,
    "jupyter": {
     "outputs_hidden": true
    }
   },
   "outputs": [
    {
     "ename": "OSError",
     "evalue": "Unable to synchronously open file (file signature not found)",
     "output_type": "error",
     "traceback": [
      "\u001b[1;31m---------------------------------------------------------------------------\u001b[0m",
      "\u001b[1;31mOSError\u001b[0m                                   Traceback (most recent call last)",
      "Cell \u001b[1;32mIn[3], line 1\u001b[0m\n\u001b[1;32m----> 1\u001b[0m model \u001b[38;5;241m=\u001b[39m \u001b[43mload_model\u001b[49m\u001b[43m(\u001b[49m\u001b[38;5;124;43m\"\u001b[39;49m\u001b[38;5;124;43m./model_unquant.tflite\u001b[39;49m\u001b[38;5;124;43m\"\u001b[39;49m\u001b[43m)\u001b[49m\n\u001b[0;32m      3\u001b[0m img_path \u001b[38;5;241m=\u001b[39m \u001b[38;5;124mr\u001b[39m\u001b[38;5;124m\"\u001b[39m\u001b[38;5;124mC:\u001b[39m\u001b[38;5;124m\\\u001b[39m\u001b[38;5;124mUsers\u001b[39m\u001b[38;5;124m\\\u001b[39m\u001b[38;5;124mpavan\u001b[39m\u001b[38;5;124m\\\u001b[39m\u001b[38;5;124mStudioProjects\u001b[39m\u001b[38;5;124m\\\u001b[39m\u001b[38;5;124mPython_Projects\u001b[39m\u001b[38;5;124m\\\u001b[39m\u001b[38;5;124mJupyter_Projects\u001b[39m\u001b[38;5;124m\\\u001b[39m\u001b[38;5;124mConveyor_Belt\u001b[39m\u001b[38;5;124m\\\u001b[39m\u001b[38;5;124mPseudo\u001b[39m\u001b[38;5;124m\\\u001b[39m\u001b[38;5;124mClass_1\u001b[39m\u001b[38;5;124m\\\u001b[39m\u001b[38;5;124mcaptured_frame_12.png\u001b[39m\u001b[38;5;124m\"\u001b[39m\n\u001b[0;32m      4\u001b[0m img \u001b[38;5;241m=\u001b[39m image\u001b[38;5;241m.\u001b[39mload_img(img_path, target_size\u001b[38;5;241m=\u001b[39m(\u001b[38;5;241m320\u001b[39m, \u001b[38;5;241m180\u001b[39m))\n",
      "File \u001b[1;32m~\\Miniconda3\\envs\\Py_3.10_Env\\lib\\site-packages\\keras\\utils\\traceback_utils.py:70\u001b[0m, in \u001b[0;36mfilter_traceback.<locals>.error_handler\u001b[1;34m(*args, **kwargs)\u001b[0m\n\u001b[0;32m     67\u001b[0m     filtered_tb \u001b[38;5;241m=\u001b[39m _process_traceback_frames(e\u001b[38;5;241m.\u001b[39m__traceback__)\n\u001b[0;32m     68\u001b[0m     \u001b[38;5;66;03m# To get the full stack trace, call:\u001b[39;00m\n\u001b[0;32m     69\u001b[0m     \u001b[38;5;66;03m# `tf.debugging.disable_traceback_filtering()`\u001b[39;00m\n\u001b[1;32m---> 70\u001b[0m     \u001b[38;5;28;01mraise\u001b[39;00m e\u001b[38;5;241m.\u001b[39mwith_traceback(filtered_tb) \u001b[38;5;28;01mfrom\u001b[39;00m \u001b[38;5;28;01mNone\u001b[39;00m\n\u001b[0;32m     71\u001b[0m \u001b[38;5;28;01mfinally\u001b[39;00m:\n\u001b[0;32m     72\u001b[0m     \u001b[38;5;28;01mdel\u001b[39;00m filtered_tb\n",
      "File \u001b[1;32m~\\Miniconda3\\envs\\Py_3.10_Env\\lib\\site-packages\\h5py\\_hl\\files.py:562\u001b[0m, in \u001b[0;36mFile.__init__\u001b[1;34m(self, name, mode, driver, libver, userblock_size, swmr, rdcc_nslots, rdcc_nbytes, rdcc_w0, track_order, fs_strategy, fs_persist, fs_threshold, fs_page_size, page_buf_size, min_meta_keep, min_raw_keep, locking, alignment_threshold, alignment_interval, meta_block_size, **kwds)\u001b[0m\n\u001b[0;32m    553\u001b[0m     fapl \u001b[38;5;241m=\u001b[39m make_fapl(driver, libver, rdcc_nslots, rdcc_nbytes, rdcc_w0,\n\u001b[0;32m    554\u001b[0m                      locking, page_buf_size, min_meta_keep, min_raw_keep,\n\u001b[0;32m    555\u001b[0m                      alignment_threshold\u001b[38;5;241m=\u001b[39malignment_threshold,\n\u001b[0;32m    556\u001b[0m                      alignment_interval\u001b[38;5;241m=\u001b[39malignment_interval,\n\u001b[0;32m    557\u001b[0m                      meta_block_size\u001b[38;5;241m=\u001b[39mmeta_block_size,\n\u001b[0;32m    558\u001b[0m                      \u001b[38;5;241m*\u001b[39m\u001b[38;5;241m*\u001b[39mkwds)\n\u001b[0;32m    559\u001b[0m     fcpl \u001b[38;5;241m=\u001b[39m make_fcpl(track_order\u001b[38;5;241m=\u001b[39mtrack_order, fs_strategy\u001b[38;5;241m=\u001b[39mfs_strategy,\n\u001b[0;32m    560\u001b[0m                      fs_persist\u001b[38;5;241m=\u001b[39mfs_persist, fs_threshold\u001b[38;5;241m=\u001b[39mfs_threshold,\n\u001b[0;32m    561\u001b[0m                      fs_page_size\u001b[38;5;241m=\u001b[39mfs_page_size)\n\u001b[1;32m--> 562\u001b[0m     fid \u001b[38;5;241m=\u001b[39m \u001b[43mmake_fid\u001b[49m\u001b[43m(\u001b[49m\u001b[43mname\u001b[49m\u001b[43m,\u001b[49m\u001b[43m \u001b[49m\u001b[43mmode\u001b[49m\u001b[43m,\u001b[49m\u001b[43m \u001b[49m\u001b[43muserblock_size\u001b[49m\u001b[43m,\u001b[49m\u001b[43m \u001b[49m\u001b[43mfapl\u001b[49m\u001b[43m,\u001b[49m\u001b[43m \u001b[49m\u001b[43mfcpl\u001b[49m\u001b[43m,\u001b[49m\u001b[43m \u001b[49m\u001b[43mswmr\u001b[49m\u001b[38;5;241;43m=\u001b[39;49m\u001b[43mswmr\u001b[49m\u001b[43m)\u001b[49m\n\u001b[0;32m    564\u001b[0m \u001b[38;5;28;01mif\u001b[39;00m \u001b[38;5;28misinstance\u001b[39m(libver, \u001b[38;5;28mtuple\u001b[39m):\n\u001b[0;32m    565\u001b[0m     \u001b[38;5;28mself\u001b[39m\u001b[38;5;241m.\u001b[39m_libver \u001b[38;5;241m=\u001b[39m libver\n",
      "File \u001b[1;32m~\\Miniconda3\\envs\\Py_3.10_Env\\lib\\site-packages\\h5py\\_hl\\files.py:235\u001b[0m, in \u001b[0;36mmake_fid\u001b[1;34m(name, mode, userblock_size, fapl, fcpl, swmr)\u001b[0m\n\u001b[0;32m    233\u001b[0m     \u001b[38;5;28;01mif\u001b[39;00m swmr \u001b[38;5;129;01mand\u001b[39;00m swmr_support:\n\u001b[0;32m    234\u001b[0m         flags \u001b[38;5;241m|\u001b[39m\u001b[38;5;241m=\u001b[39m h5f\u001b[38;5;241m.\u001b[39mACC_SWMR_READ\n\u001b[1;32m--> 235\u001b[0m     fid \u001b[38;5;241m=\u001b[39m \u001b[43mh5f\u001b[49m\u001b[38;5;241;43m.\u001b[39;49m\u001b[43mopen\u001b[49m\u001b[43m(\u001b[49m\u001b[43mname\u001b[49m\u001b[43m,\u001b[49m\u001b[43m \u001b[49m\u001b[43mflags\u001b[49m\u001b[43m,\u001b[49m\u001b[43m \u001b[49m\u001b[43mfapl\u001b[49m\u001b[38;5;241;43m=\u001b[39;49m\u001b[43mfapl\u001b[49m\u001b[43m)\u001b[49m\n\u001b[0;32m    236\u001b[0m \u001b[38;5;28;01melif\u001b[39;00m mode \u001b[38;5;241m==\u001b[39m \u001b[38;5;124m'\u001b[39m\u001b[38;5;124mr+\u001b[39m\u001b[38;5;124m'\u001b[39m:\n\u001b[0;32m    237\u001b[0m     fid \u001b[38;5;241m=\u001b[39m h5f\u001b[38;5;241m.\u001b[39mopen(name, h5f\u001b[38;5;241m.\u001b[39mACC_RDWR, fapl\u001b[38;5;241m=\u001b[39mfapl)\n",
      "File \u001b[1;32mh5py\\_objects.pyx:54\u001b[0m, in \u001b[0;36mh5py._objects.with_phil.wrapper\u001b[1;34m()\u001b[0m\n",
      "File \u001b[1;32mh5py\\_objects.pyx:55\u001b[0m, in \u001b[0;36mh5py._objects.with_phil.wrapper\u001b[1;34m()\u001b[0m\n",
      "File \u001b[1;32mh5py\\h5f.pyx:102\u001b[0m, in \u001b[0;36mh5py.h5f.open\u001b[1;34m()\u001b[0m\n",
      "\u001b[1;31mOSError\u001b[0m: Unable to synchronously open file (file signature not found)"
     ]
    }
   ],
   "source": [
    "model = load_model(\"./conveyor_model.h5\")\n",
    "\n",
    "img_path = r\"C:\\Users\\pavan\\StudioProjects\\Python_Projects\\Jupyter_Projects\\Conveyor_Belt\\Pseudo\\Class_1\\captured_frame_12.png\"\n",
    "img = image.load_img(img_path, target_size=(320, 180))\n",
    "img_array = image.img_to_array(img)\n",
    "img_array = np.expand_dims(img_array, axis=0)\n",
    "img_array /= 255.0  \n",
    "\n",
    "plt.imshow(img)\n",
    "plt.axis('off')\n",
    "plt.show()\n",
    "\n",
    "predictions = model.predict(img_array)\n",
    "\n",
    "if predictions > 0.5:\n",
    "    print(\"Defect is detected\")\n",
    "else:\n",
    "    print(\"Defect is not detected\")\n"
   ]
  },
  {
   "cell_type": "code",
   "execution_count": null,
   "id": "7b8ed9fe-48a2-489c-989c-cae769b3c398",
   "metadata": {},
   "outputs": [],
   "source": []
  }
 ],
 "metadata": {
  "kernelspec": {
   "display_name": "Py_3.10.13",
   "language": "python",
   "name": "py_3.10.13"
  },
  "language_info": {
   "codemirror_mode": {
    "name": "ipython",
    "version": 3
   },
   "file_extension": ".py",
   "mimetype": "text/x-python",
   "name": "python",
   "nbconvert_exporter": "python",
   "pygments_lexer": "ipython3",
   "version": "3.10.13"
  }
 },
 "nbformat": 4,
 "nbformat_minor": 5
}
